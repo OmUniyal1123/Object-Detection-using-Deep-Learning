{
 "cells": [
  {
   "cell_type": "markdown",
   "metadata": {},
   "source": [
    "OBJECT DETECTION using CNN"
   ]
  },
  {
   "cell_type": "code",
   "execution_count": 44,
   "metadata": {},
   "outputs": [
    {
     "name": "stdout",
     "output_type": "stream",
     "text": [
      "Webcam closed successfully.\n"
     ]
    }
   ],
   "source": [
    "import cv2\n",
    "import os\n",
    "\n",
    "# Threshold for object detection confidence\n",
    "thres = 0.45\n",
    "\n",
    "# Ensure required files exist\n",
    "for path in [\"coco.names\", \"ssd_mobilenet_v3_large_coco_2020_01_14.pbtxt\", \"frozen_inference_graph.pb\"]:\n",
    "    if not os.path.exists(path):\n",
    "        raise FileNotFoundError(f\"File '{path}' not found. Please check the path.\")\n",
    "\n",
    "# Initialize webcam\n",
    "cap = cv2.VideoCapture(0)\n",
    "cap.set(3, 1280)  # Width\n",
    "cap.set(4, 720)   # Height\n",
    "cap.set(10, 70)   # Brightness\n",
    "\n",
    "# Load class names\n",
    "classNames = []\n",
    "with open(\"coco.names\", \"rt\") as f:\n",
    "    classNames = f.read().rstrip(\"\\n\").split(\"\\n\")\n",
    "\n",
    "# Load SSD MobileNet Model\n",
    "net = cv2.dnn_DetectionModel(\"frozen_inference_graph.pb\", \"ssd_mobilenet_v3_large_coco_2020_01_14.pbtxt\")\n",
    "net.setInputSize(320, 320)\n",
    "net.setInputScale(1.0 / 127.5)\n",
    "net.setInputMean((127.5, 127.5, 127.5))\n",
    "net.setInputSwapRB(True)\n",
    "\n",
    "while True:\n",
    "    success, img = cap.read()\n",
    "    if not success:\n",
    "        print(\"Failed to capture image\")\n",
    "        break\n",
    "\n",
    "    classIds, confs, bbox = net.detect(img, confThreshold=thres)\n",
    "    \n",
    "    if len(classIds) != 0:\n",
    "        for classId, confidence, box in zip(classIds.flatten(), confs.flatten(), bbox):\n",
    "            cv2.rectangle(img, box, color=(0, 255, 0), thickness=2)\n",
    "            cv2.putText(img, classNames[classId - 1].upper(), (box[0] + 10, box[1] + 30),\n",
    "                        cv2.FONT_HERSHEY_COMPLEX, 1, (0, 255, 0), 2)\n",
    "            cv2.putText(img, f\"{confidence * 100:.2f}%\", (box[0] + 200, box[1] + 30),\n",
    "                        cv2.FONT_HERSHEY_COMPLEX, 1, (0, 255, 0), 2)\n",
    "\n",
    "    cv2.imshow(\"Object Detection\", img)\n",
    "\n",
    "    # Exit if 'q' is pressed or window is closed\n",
    "    if cv2.waitKey(1) & 0xFF == ord('q') or cv2.getWindowProperty(\"Object Detection\", cv2.WND_PROP_VISIBLE) < 1:\n",
    "        break\n",
    "\n",
    "cap.release()\n",
    "cv2.destroyAllWindows()\n",
    "print(\"Webcam closed successfully.\")\n"
   ]
  }
 ],
 "metadata": {
  "kernelspec": {
   "display_name": "Python 3",
   "language": "python",
   "name": "python3"
  },
  "language_info": {
   "codemirror_mode": {
    "name": "ipython",
    "version": 3
   },
   "file_extension": ".py",
   "mimetype": "text/x-python",
   "name": "python",
   "nbconvert_exporter": "python",
   "pygments_lexer": "ipython3",
   "version": "3.12.2"
  }
 },
 "nbformat": 4,
 "nbformat_minor": 2
}
